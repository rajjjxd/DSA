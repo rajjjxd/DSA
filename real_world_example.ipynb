{
 "cells": [
  {
   "cell_type": "markdown",
   "metadata": {},
   "source": [
    "Real world example using list "
   ]
  },
  {
   "cell_type": "code",
   "execution_count": 9,
   "metadata": {},
   "outputs": [
    {
     "name": "stderr",
     "output_type": "stream",
     "text": [
      "<>:9: SyntaxWarning: \"is\" with 'str' literal. Did you mean \"==\"?\n",
      "<>:9: SyntaxWarning: \"is\" with 'str' literal. Did you mean \"==\"?\n",
      "C:\\Users\\RAHUL\\AppData\\Local\\Temp\\ipykernel_18188\\3666391551.py:9: SyntaxWarning: \"is\" with 'str' literal. Did you mean \"==\"?\n",
      "  if 'do Ml' is td_list:\n"
     ]
    }
   ],
   "source": [
    "# 1. To-do List\n",
    "td_list = ['do Ml','do DL','Do DSA']\n",
    "\n",
    "#adding task\n",
    "td_list.append('appply for interships')\n",
    "td_list.append('do CAT')\n",
    "\n",
    "#checking and priortising\n",
    "if 'do Ml' is td_list:\n",
    "    print('dont forget to do Ml. top priority')\n",
    "\n",
    " \n"
   ]
  },
  {
   "cell_type": "code",
   "execution_count": 10,
   "metadata": {},
   "outputs": [
    {
     "data": {
      "text/plain": [
       "['do Ml', 'do DL', 'Do DSA', 'appply for interships', 'do CAT']"
      ]
     },
     "execution_count": 10,
     "metadata": {},
     "output_type": "execute_result"
    }
   ],
   "source": [
    "td_list"
   ]
  },
  {
   "cell_type": "code",
   "execution_count": null,
   "metadata": {},
   "outputs": [],
   "source": []
  }
 ],
 "metadata": {
  "kernelspec": {
   "display_name": "Python 3",
   "language": "python",
   "name": "python3"
  },
  "language_info": {
   "codemirror_mode": {
    "name": "ipython",
    "version": 3
   },
   "file_extension": ".py",
   "mimetype": "text/x-python",
   "name": "python",
   "nbconvert_exporter": "python",
   "pygments_lexer": "ipython3",
   "version": "3.12.3"
  }
 },
 "nbformat": 4,
 "nbformat_minor": 2
}
